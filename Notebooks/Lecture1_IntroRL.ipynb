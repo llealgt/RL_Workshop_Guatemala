{
  "nbformat": 4,
  "nbformat_minor": 0,
  "metadata": {
    "colab": {
      "name": "Lecture1-IntroRL.ipynb",
      "provenance": [],
      "collapsed_sections": [],
      "include_colab_link": true
    },
    "kernelspec": {
      "name": "python3",
      "display_name": "Python 3"
    }
  },
  "cells": [
    {
      "cell_type": "markdown",
      "metadata": {
        "id": "view-in-github",
        "colab_type": "text"
      },
      "source": [
        "<a href=\"https://colab.research.google.com/github/llealgt/RL_Workshop_Guatemala/blob/master/Notebooks/Lecture1_IntroRL.ipynb\" target=\"_parent\"><img src=\"https://colab.research.google.com/assets/colab-badge.svg\" alt=\"Open In Colab\"/></a>"
      ]
    },
    {
      "cell_type": "markdown",
      "metadata": {
        "id": "BFY2-mK32GFe",
        "colab_type": "text"
      },
      "source": [
        "# Introducción a Reinforcement Learning"
      ]
    },
    {
      "cell_type": "markdown",
      "metadata": {
        "id": "lP7j3PlF6Fvn",
        "colab_type": "text"
      },
      "source": [
        "Veamos y juguemos un poco con RL para tener una idea mas clara de que puede hacer:\n",
        "\n",
        "\n",
        "\n",
        "*   https://cs.stanford.edu/people/karpathy/reinforcejs/gridworld_td.html\n",
        "*   https://cs.stanford.edu/people/karpathy/reinforcejs/waterworld.html\n",
        "*   https://selfdrivingcars.mit.edu/deeptraffic/\n",
        "\n",
        "\n",
        "\n"
      ]
    },
    {
      "cell_type": "markdown",
      "metadata": {
        "id": "WpSJLzjEomLw",
        "colab_type": "text"
      },
      "source": [
        "## Descripción del Aprendizaje por Refuerzo\n",
        "\n",
        "El **Aprendizaje por refuerzo (Reinforcement Learning)** intenta conseguir que un **agente** aprenda a decidir mediante su propia experiencia. Es decir, que ante una situación determinada, sea capaz de seleccionar por sí misma la mejor acción a ejecutar en ese momento mediante un **proceso interactivo de prueba y error** a base de reforzar positivamente cada vez que se aproxima o logra el objetivo.\n",
        "\n",
        "*Fuente:* [MIT Technology Review](https://www.technologyreview.es/s/6824/tr10-aprendizaje-reforzado), [Advanced Tech](https://advancedtech.wordpress.com/2008/08/08/aprendizaje-por-refuerzo/), [Fernando Sancho Caparrini](http://www.cs.us.es/~fsancho/?e=109), [Clever Data](http://cleverdata.io/conceptos-basicos-machine-learning/)\n"
      ]
    },
    {
      "cell_type": "markdown",
      "metadata": {
        "id": "0zCAuCXStQ86",
        "colab_type": "text"
      },
      "source": [
        "## Facetas del Aprendizaje por refuerzo"
      ]
    },
    {
      "cell_type": "markdown",
      "metadata": {
        "id": "boTAriRys2jR",
        "colab_type": "text"
      },
      "source": [
        "![Aplicaciones del Aprendizaje por refuerzo](https://www.researchgate.net/profile/Ahmad_Hammoudeh3/publication/323178749/figure/fig1/AS:594073228423171@1518649503854/Reinforcement-Learning-faces-10.png)\n",
        "\n",
        "*Fuente:* [ResearchGate](https://www.researchgate.net/profile/Ahmad_Hammoudeh3/publication/323178749/figure/fig1/AS:594073228423171@1518649503854/Reinforcement-Learning-faces-10.png)"
      ]
    },
    {
      "cell_type": "markdown",
      "metadata": {
        "id": "zI28n8e0tlha",
        "colab_type": "text"
      },
      "source": [
        "## Ramas del Aprendizaje de máquina (Machine Learning)"
      ]
    },
    {
      "cell_type": "markdown",
      "metadata": {
        "id": "GowGC5unt1Q3",
        "colab_type": "text"
      },
      "source": [
        "![Ramas de Machine Learning](https://www.researchgate.net/profile/Ahmad_Hammoudeh3/publication/323178749/figure/fig2/AS:594073228439553@1518649503882/Reinforcement-Learning-standard-diagram-Fig-2-Machine-Learning-branches-10.png)\n",
        "\n",
        "*Fuente:* [ResearchGate](https://www.researchgate.net/profile/Ahmad_Hammoudeh3/publication/323178749/figure/fig2/AS:594073228439553@1518649503882/Reinforcement-Learning-standard-diagram-Fig-2-Machine-Learning-branches-10.png)"
      ]
    },
    {
      "cell_type": "markdown",
      "metadata": {
        "id": "sJEDRk-eukn1",
        "colab_type": "text"
      },
      "source": [
        "## Características del Aprendizaje reforzado"
      ]
    },
    {
      "cell_type": "markdown",
      "metadata": {
        "id": "Oyrla7LSutEw",
        "colab_type": "text"
      },
      "source": [
        "¿Qué hace que el **Aprendizaje por refuerzo** sea diferente de otros paradigmas de aprendizaje de automático?\n",
        "\n",
        "\n",
        "*   No hay supervisor, solo una señal de recompensa\n",
        "*   La retroalimentación no es instantánea\n",
        "*   El tiempo realmente importa\n",
        "*   Las acciones del agente repercuten en los datos que se recibirán posteriormente\n",
        "\n"
      ]
    },
    {
      "cell_type": "markdown",
      "metadata": {
        "id": "wAOZ4ByFx0Ee",
        "colab_type": "text"
      },
      "source": [
        "## Ejemplos de Aprendizaje reforzado"
      ]
    },
    {
      "cell_type": "markdown",
      "metadata": {
        "id": "3WxaTWzYx526",
        "colab_type": "text"
      },
      "source": [
        "### Bipedal Robot\n"
      ]
    },
    {
      "cell_type": "code",
      "metadata": {
        "id": "bRetU7TSy03_",
        "colab_type": "code",
        "outputId": "a954e812-67ad-4bda-dcbb-1dc5d17c973a",
        "colab": {
          "base_uri": "https://localhost:8080/",
          "height": 321
        }
      },
      "source": [
        "from IPython.display import YouTubeVideo\n",
        "YouTubeVideo('UhXly-5tEkc')"
      ],
      "execution_count": 0,
      "outputs": [
        {
          "output_type": "execute_result",
          "data": {
            "text/html": [
              "\n",
              "        <iframe\n",
              "            width=\"400\"\n",
              "            height=\"300\"\n",
              "            src=\"https://www.youtube.com/embed/UhXly-5tEkc\"\n",
              "            frameborder=\"0\"\n",
              "            allowfullscreen\n",
              "        ></iframe>\n",
              "        "
            ],
            "text/plain": [
              "<IPython.lib.display.YouTubeVideo at 0x7fb1d1f0ea20>"
            ],
            "image/jpeg": "[encoded data removed]"
          },
          "metadata": {
            "tags": []
          },
          "execution_count": 1
        }
      ]
    },
    {
      "cell_type": "markdown",
      "metadata": {
        "id": "If3MiLn60o80",
        "colab_type": "text"
      },
      "source": [
        "### Google DeepMind's Deep Q-learning playing Atari Breakout"
      ]
    },
    {
      "cell_type": "code",
      "metadata": {
        "id": "pEwR18Xk0xWw",
        "colab_type": "code",
        "outputId": "9d2ae77a-097c-45d7-8a54-463deeb16417",
        "colab": {
          "base_uri": "https://localhost:8080/",
          "height": 321
        }
      },
      "source": [
        "from IPython.display import YouTubeVideo\n",
        "YouTubeVideo('V1eYniJ0Rnk')"
      ],
      "execution_count": 0,
      "outputs": [
        {
          "output_type": "execute_result",
          "data": {
            "text/html": [
              "\n",
              "        <iframe\n",
              "            width=\"400\"\n",
              "            height=\"300\"\n",
              "            src=\"https://www.youtube.com/embed/V1eYniJ0Rnk\"\n",
              "            frameborder=\"0\"\n",
              "            allowfullscreen\n",
              "        ></iframe>\n",
              "        "
            ],
            "text/plain": [
              "<IPython.lib.display.YouTubeVideo at 0x7fb091a25400>"
            ],
            "image/jpeg": "[encoded data removed]"
          },
          "metadata": {
            "tags": []
          },
          "execution_count": 5
        }
      ]
    },
    {
      "cell_type": "markdown",
      "metadata": {
        "colab_type": "text",
        "id": "i2WQCgqK8i15"
      },
      "source": [
        "### Double DQN for autonomous navigation\n"
      ]
    },
    {
      "cell_type": "code",
      "metadata": {
        "id": "CaxO-2lt8veC",
        "colab_type": "code",
        "outputId": "d97ae457-11f0-42af-e0bc-cd545d178ed2",
        "colab": {
          "base_uri": "https://localhost:8080/",
          "height": 321
        }
      },
      "source": [
        "from IPython.display import YouTubeVideo\n",
        "YouTubeVideo(\"VdHAi0ndfLM\")"
      ],
      "execution_count": 0,
      "outputs": [
        {
          "output_type": "execute_result",
          "data": {
            "text/html": [
              "\n",
              "        <iframe\n",
              "            width=\"400\"\n",
              "            height=\"300\"\n",
              "            src=\"https://www.youtube.com/embed/VdHAi0ndfLM\"\n",
              "            frameborder=\"0\"\n",
              "            allowfullscreen\n",
              "        ></iframe>\n",
              "        "
            ],
            "text/plain": [
              "<IPython.lib.display.YouTubeVideo at 0x7fb1d1f31160>"
            ],
            "image/jpeg": "[encoded data removed]"
          },
          "metadata": {
            "tags": []
          },
          "execution_count": 2
        }
      ]
    },
    {
      "cell_type": "markdown",
      "metadata": {
        "id": "BD5sfX7hinAT",
        "colab_type": "text"
      },
      "source": [
        "## Recompensas"
      ]
    },
    {
      "cell_type": "markdown",
      "metadata": {
        "id": "Kzpy241livEp",
        "colab_type": "text"
      },
      "source": [
        "\n",
        "\n",
        "*   Una recompensa $R_{t}$ es una señal de retroalimentación, escalar(solo un número).\n",
        "*   Nos dice que tan bien se desempeña el **agente** en el paso **t**.\n",
        "*   El objetivo del **agente** es maximizar la señal de recompensa acumulada(experiencia).\n",
        "---\n",
        "\n",
        "El aprendizaje reforzado se basa en la hipotesis de recompensa.\n",
        "\n",
        "---\n",
        "¿Todos los objetivos pueden ser descritos como la maximización de la recompensa acumulada esperada?\n",
        "\n",
        "### Ejemplos\n",
        "\n",
        "*   Enseñar a caminar a un Robot\n",
        "  *  (+) movimiento continuo\n",
        "  *  (-) cada vez que se caiga\n",
        "*   Derrotar al campeón del mundo en Backgammon\n",
        "  *  (+/-) recompensa por ganar/perder una partida\n",
        "*   Aprender diferentes juegos de Atari mejor que los humanos\n",
        "  *  (+/-) recompensa por aumentar/disminuir la puntuación en el juego\n",
        "\n",
        "\n",
        "\n",
        "\n"
      ]
    },
    {
      "cell_type": "markdown",
      "metadata": {
        "id": "ULH64Io2liLh",
        "colab_type": "text"
      },
      "source": [
        "## Toma de decisiones Secuencialmente"
      ]
    },
    {
      "cell_type": "markdown",
      "metadata": {
        "id": "-9FyZUWLoisu",
        "colab_type": "text"
      },
      "source": [
        "\n",
        "\n",
        "*   **Objetivo:** Seleccionar las acciones que maximicen el total de la recompensa.\n",
        "*   Las acciones elegidas tiene un impaco a largo plazo.\n",
        "*   La recompensa puede demorarse\n",
        "*   Puede ser mejor sacrificar la recompensa inmediata para obtener más recompensa a largo plazo.\n",
        "*   **Ejemplos:**\n",
        "  *  Una inversión financiera (puede tardar meses en madurar)\n",
        "  *  Bloquear los movimientos del oponente (podría ayudar a ganar la posibilidad de muchos movimientos a partir de ahora)"
      ]
    },
    {
      "cell_type": "markdown",
      "metadata": {
        "id": "GBn8iOH0qADF",
        "colab_type": "text"
      },
      "source": [
        "## El Agente y el entorno"
      ]
    },
    {
      "cell_type": "markdown",
      "metadata": {
        "id": "RqIS7jwzqDou",
        "colab_type": "text"
      },
      "source": [
        "![Atari Game Agent and Environment](https://images.squarespace-cdn.com/content/532a7519e4b0b7a4666804ed/1515481086750-DD9KG7B9FECTHUCDU270/0_71d7JALfaEwIWmUn.png?content-type=image%2Fpng)\n",
        "\n",
        "\n",
        "*Fuente:* [Sasha Sheng, RL Isomorphisms Part 1](http://www.sashasheng.com/blog/2018-1-6-reinforcement-learning-taxonomy)\n",
        "\n",
        "En cada paso **t** el agente:\n",
        "*   Ejecuta la acción $A_{t}$\n",
        "*   Recibe la observación $O_{t}$\n",
        "*   Recibe la recompensa $R_{t}$(escalar)\n",
        "\n",
        "El entorno:\n",
        "*   Recibe la acción $A_{t}$\n",
        "*   Emite una observación $O_{t+1}$\n",
        "*   Emite una recompensa $R_{t+1}$\n",
        "\n",
        "$t$ incrementa al paso del entorno"
      ]
    },
    {
      "cell_type": "markdown",
      "metadata": {
        "id": "O5SC9ybHsrWj",
        "colab_type": "text"
      },
      "source": [
        "## Historia y Estados\n",
        "La **historia** es la secuencia de observaciones, acciones y recompensas.\n",
        "> $H_{t}=O_{1},R_{1},A_{1},...,A_{t-1},O_{t},R_{t}$ \n",
        "\n",
        "* Todas las variables observables hasta el momento **t**.\n",
        "\n",
        "Lo que sucede luego depende de la **historia**:\n",
        "* El agente selecciona una **acción**.\n",
        "* El entorno selecciona las **observaciones** y **recompensas**.\n",
        "\n",
        "El **estado** es la información que se utiliza para determinar que sucede después.\n",
        "\n",
        "Formalmente el **estado** es una función de la **historia** \n",
        "> $S_{t}=f(H_{t})$\n",
        "\n"
      ]
    },
    {
      "cell_type": "markdown",
      "metadata": {
        "id": "KZsZ9TM8_2O4",
        "colab_type": "text"
      },
      "source": [
        "## Estado del entorno\n"
      ]
    },
    {
      "cell_type": "markdown",
      "metadata": {
        "id": "DLQQRhkNER0L",
        "colab_type": "text"
      },
      "source": [
        "El estado del entorno $S_{t}^{e}$ es la representación privada del mismo.\n",
        "\n",
        "Se define como cualquier información que utiliza el entorno para seleccionar la siguiente observación y/o recompensa.\n",
        "\n",
        "Normalmente el estado del entorno no es visible desde el agente, incluso si fuera visible esta información es irrelevante para el agente.\n",
        "\n"
      ]
    },
    {
      "cell_type": "markdown",
      "metadata": {
        "id": "p42JFDzwBK35",
        "colab_type": "text"
      },
      "source": [
        "## Estado del agente"
      ]
    },
    {
      "cell_type": "markdown",
      "metadata": {
        "id": "NGwPsI51BRUw",
        "colab_type": "text"
      },
      "source": [
        "![Agent State](https://www.gmse.de/wp/wp-content/uploads/2016/09/rl_process.png)\n",
        "\n",
        "El estado del agente $S_{t}^{a}$ es la representación interna del agente.\n",
        "\n",
        "Es cualquier información que el agente utiliza para seleccionar la siguiente acción.\n",
        "\n",
        "Es la información que utilizan los algoritmos basados en aprendizaje por refuerzo.\n",
        "\n",
        "Puede ser cualquier función de la historia:\\\n",
        "$S_{t}^{a}=f(H_{t})$\n"
      ]
    },
    {
      "cell_type": "markdown",
      "metadata": {
        "id": "O4fbW-BiFWOp",
        "colab_type": "text"
      },
      "source": [
        "## Estado de información"
      ]
    },
    {
      "cell_type": "markdown",
      "metadata": {
        "id": "0hmrOjtyFb5n",
        "colab_type": "text"
      },
      "source": [
        "Este contiene toda la información útil de la **historia**.\n",
        "\n",
        "> $\\mathbb{P}[S_{t+1}|S_{t}]=\\mathbb{P}[S_{t+1}|S_{1},...,S_{t}]$\n",
        "\n",
        "\"El futuro es independiente del pasado dado el presente\"\\\n",
        "Significa que el estado actual (representado por $S_{t}$) contiene toda la información relevante de los estados pasados ($S_{1}$,...,S_{t}), por lo tanto ya no nos serviría tener mayor información de los estados pasados.\n",
        "> $H_{1:t}\\mapsto S_{t}\\mapsto H_{t+1:\\infty}$\n",
        "\n",
        "Una vez conocemos el **estado** la **historia** puede ser desechada.\\\n",
        "El **estado** es una estadística suficiente del futuro.\\\n",
        "El estado del entorno $S_{t}^{e}$ posee propiedades de los procesos de Markov.\\\n",
        "El estado del entorno $H_{t}$ posee propiedades de los procesos de Markov."
      ]
    },
    {
      "cell_type": "markdown",
      "metadata": {
        "id": "saEzeIMQQQ-8",
        "colab_type": "text"
      },
      "source": [
        "## Entornos completamente observables\n",
        "\n",
        "![Fully Observable environments](https://images.squarespace-cdn.com/content/532a7519e4b0b7a4666804ed/1515481086750-DD9KG7B9FECTHUCDU270/0_71d7JALfaEwIWmUn.png?content-type=image%2Fpng)\n",
        "\n",
        "El **agente** puede observar directamente el estado del **entorno**.\n",
        "\n",
        "> $O_{t}=S_{t}^{a}=S_{t}^{e}$\n",
        "\n",
        "Formalmente se define como un proceso de decisón de Markov (**MDP**)."
      ]
    },
    {
      "cell_type": "markdown",
      "metadata": {
        "id": "MISINocGRGT0",
        "colab_type": "text"
      },
      "source": [
        "## Entornos parcialmente observables\n",
        "\n",
        "El **agente** observa indirectamente su entorno:\n",
        "* Un robot que tiene una cámara no sabe su ubicación absoluta.\n",
        "\n",
        "Se define como un proceso de decisión de Markov parcialmente observable (**POMDP**).\n",
        "\n",
        "El agente debe construir su propia representación de estado $S_{t}^{a}$\n",
        "* $S_{t}^{a}=H_{t}$\n",
        "* $S_{t}^{a}=(\\mathbb{P}[S_{t}^{e}=s^{1}], ... ,\\mathbb{P}[S_{t}^{e}=s^{n}])$"
      ]
    },
    {
      "cell_type": "markdown",
      "metadata": {
        "id": "F3X6KYWWS1ps",
        "colab_type": "text"
      },
      "source": [
        "## Componentes de un agente\n",
        "\n",
        "Un agente debe tener uno o mas de los siguientes componentes:\n",
        "* **Políticas:** función de comportamiento del agente.\n",
        "  * Nos dice como actuar partiendo de un estado a ejecutar una acción.\n",
        "    * $a=\\pi(s)$ **Política determínistica**\n",
        "    * $\\pi(a|s)=\\mathbb{P}[A_{t}=a|S_{t}=s]$ **Política estocastica**\n",
        "* **Función de evaluación:** evaluar que tan bueno es un estado y/o acción del agente.\n",
        "  * Es una predicción de la recompensa a futuro.\n",
        "  * Se utiliza para evaluar los estados. ¿Bien o mal?\n",
        "  * Seleccionar entre acciones\n",
        "    * $v_{\\pi}(s)=\\mathbb{E}[R_{t+1}+\\gamma R_{t+2}+\\gamma^{2}R_{t+3}+...|S_{t}=s]$\n",
        "* **Modelo:** representación del entorno.\n",
        "  * Un modelo nos permite predecir cual será el siguiente paso en el entorno.\n",
        "  * $\\textit{P}$ predice el siguiente estado\n",
        "  * $\\textit{R}$ predice la siguiente recompensa (inmediata)\n",
        "    * $\\textit{P}_{ss'}^{a}=\\mathbb{P}[S_{t+1}=s' | S_{t}=s, A_{t}=a]$\n",
        "    * $\\textit{R}_{s}^{a}=\\mathbb{E}[R_{t+1} | S_{t}=s, A_{t}=a]$ "
      ]
    },
    {
      "cell_type": "markdown",
      "metadata": {
        "id": "NS85CFF45EGt",
        "colab_type": "text"
      },
      "source": [
        "## Taxonomía de un agente de RL\n",
        "\n",
        "![Taxonomía](https://www.researchgate.net/profile/Philip_Odonkor5/publication/327733315/figure/fig2/AS:672329315131399@1537307208318/Reinforcement-Learning-Agent-Taxonomy.ppm)"
      ]
    },
    {
      "cell_type": "markdown",
      "metadata": {
        "id": "BTs4naTQ0kbb",
        "colab_type": "text"
      },
      "source": [
        "## Aprendiendo y Planificando\n",
        "\n",
        "Estos son dos problemas fundamentales en la toma de decisiones secuenciales.\n",
        "\n",
        "* Aprendizaje por refuerzo:\n",
        "  * Inicialmente no se conoce el entorno\n",
        "  * El agente interactua con el entorno\n",
        "  * El agente mejora sus politicas\n",
        "* Planificación:\n",
        "  * Se conoce el modelo del entorno \n",
        "  * El agente realiza operaciones computacionales con su modelo\n",
        "  * El agente mejora sus politicas\n",
        "  * Razonamiento, ponderación, introspección, busquedas\n",
        "\n",
        "### Ejemplo: Atari\n",
        "#### **Aprendizaje por refuerzo**\n",
        "![Atari1](https://i1.wp.com/syncedreview.com/wp-content/uploads/2017/02/19.png?resize=950%2C694&ssl=1)\n",
        "\n",
        "* El agente no sabe las reglas del juego\n",
        "* Aprende de forma interactiva\n",
        "* Toma acciones manipulando el control, observa la pantalla y el punteo\n",
        "\n",
        "#### **Planificación**\n",
        "![Atari2](https://images.deepai.org/converted-papers/1902.00566/x2.png)\n",
        "\n",
        "* Se conocen las reglas del juego\n",
        "* Se puede usar un emulador\n",
        "  * Existe un modelo perfecto en el cerebro del agente\n",
        "* Si tomo una acción *a* desde el estado *s*:\n",
        "  * ¿Cuál será el siguiente estado?\n",
        "  * ¿Cuál será la puntuación obtenida?\n",
        "* Planificar con anticipación para encontrar una política óptima"
      ]
    },
    {
      "cell_type": "markdown",
      "metadata": {
        "id": "gHT7_FFm1vIP",
        "colab_type": "text"
      },
      "source": [
        "## Exploración y explotación\n",
        "* El aprendizaje por refuerzo es parecido a aprender mediante prueba y error\n",
        "* El agente descubrira de su experiencia con el entorno una buena politica que rija su comportamiento de forma adecuada y sin perder mucha recompensa en el camino\n",
        "\n",
        "* La **exploración** ayuda al agenta a obtener mas información de su entorno.\n",
        "* La **explotación** aprovecha toda la información conocida hasta el momento para maximizar la **recompensa**.\n",
        "* Es muy importante tener un balance entre estos 2 terminos.\n",
        "\n",
        "**Ejemplos:**\n",
        "* Selección de un restaurante para cenar\n",
        "  * *Explotación* Ir a nuestro restaurante favorito\n",
        "  * *Exploración* Probar un restaurante distinto\n",
        "* Online advertising\n",
        "  * *Explotación* Mostrar el anuncio mas exitoso\n",
        "  * *Exploración* Mostrar otros anuncios para evaluar como con recibidos.\n",
        "* Busqueda de petroleo\n",
        "  * *Explotación* Excavar la mejor ubicación conocida al momento\n",
        "  * *Exploración* Excavar nuevas ubicaciones\n",
        "* Juegos y videojuegos\n",
        "  * *Explotación* Realizar la jugada que creemos la mejor\n",
        "  * *Exploración* Probar una jugada experimental."
      ]
    },
    {
      "cell_type": "markdown",
      "metadata": {
        "id": "TyaUisnp3DD6",
        "colab_type": "text"
      },
      "source": [
        "## Predicción y Control\n",
        "\n",
        "**Predicción:** Evaluar el futuro\n",
        "* Dada una política de conducta\n",
        "* Para una política fija, estimar el valor de esta (a través de sus funciones de evaluación)\n",
        "\n",
        "**Control:** Optimizar el futuro\n",
        "* Encontrar la mejor política\n",
        "* Encontrar la política que mejore la interacción del agente con el entorno"
      ]
    },
    {
      "cell_type": "markdown",
      "metadata": {
        "id": "I9Dsx37B6rIR",
        "colab_type": "text"
      },
      "source": [
        "## **Observaciones**\n",
        "La información de este documento se obtuvo del curso de *Reinforcement Learning* impartido por el profesor **David Silver**. Pueden encontrar todo el material referente a este curso [aquí](http://www0.cs.ucl.ac.uk/staff/d.silver/web/Teaching.html)"
      ]
    }
  ]
}